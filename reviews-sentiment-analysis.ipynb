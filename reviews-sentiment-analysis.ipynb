{
 "cells": [
  {
   "cell_type": "code",
   "execution_count": 1,
   "metadata": {},
   "outputs": [],
   "source": [
    "import cohere\n",
    "import os\n",
    "from cohere.responses.classify import Example\n",
    "import warnings\n",
    "warnings.filterwarnings('ignore')"
   ]
  },
  {
   "cell_type": "code",
   "execution_count": 2,
   "metadata": {},
   "outputs": [],
   "source": [
    "api_key = os.environ.get(\"COHERE_API_KEY\"),\n",
    "\n",
    "# setting up the cohere client\n",
    "co = cohere.Client(api_key)"
   ]
  },
  {
   "cell_type": "code",
   "execution_count": 3,
   "metadata": {},
   "outputs": [],
   "source": [
    "\n",
    "examples=[\n",
    "  Example(\"The order came 5 days early\", \"positive\"), \n",
    "  Example(\"The item exceeded my expectations\", \"positive\"), \n",
    "  Example(\"I ordered more for my friends\", \"positive\"), \n",
    "  Example(\"I would buy this again\", \"positive\"), \n",
    "  Example(\"I would recommend this to others\", \"positive\"), \n",
    "  Example(\"The package was damaged\", \"negative\"), \n",
    "  Example(\"The order is 5 days late\", \"negative\"), \n",
    "  Example(\"The order was incorrect\", \"negative\"), \n",
    "  Example(\"I want to return my item\", \"negative\"), \n",
    "  Example(\"The item\\'s material feels low quality\", \"negative\"), \n",
    "  Example(\"The product was okay\", \"neutral\"), \n",
    "  Example(\"I received five items in total\", \"neutral\"), \n",
    "  Example(\"I bought it from the website\", \"neutral\"), \n",
    "  Example(\"I used the product this morning\", \"neutral\"), \n",
    "  Example(\"The product arrived yesterday\", \"neutral\"),\n",
    "]\n",
    "\n",
    "reviews = [\"I had a nice stay here in the hotel, the room was comfy, the pool was huge and the hotel bar was fantastic. Super good location right in the center of Los Angeles\", \n",
    "           \"Great service, but I could not turn off the AC, the food was not as advertised though\"]\n",
    "\n",
    "\n",
    "response = co.classify(\n",
    "  model='large',\n",
    "  inputs=reviews,\n",
    "  examples=examples,\n",
    ")\n",
    "    "
   ]
  },
  {
   "cell_type": "code",
   "execution_count": 4,
   "metadata": {},
   "outputs": [
    {
     "name": "stdout",
     "output_type": "stream",
     "text": [
      "Input 1:\n",
      "Review: I had a nice stay here in the hotel, the room was comfy, the pool was huge and the hotel bar was fantastic. Super good location right in the center of Los Angeles\n",
      "Prediction: positive\n",
      "\n",
      "Input 2:\n",
      "Review: Great service, but I could not turn off the AC, the food was not as advertised though\n",
      "Prediction: negative\n",
      "\n"
     ]
    }
   ],
   "source": [
    "for i, classification in enumerate(response.classifications):\n",
    "    print(f\"Input {i + 1}:\")\n",
    "    print(f\"Review: {reviews[i]}\")\n",
    "    print(f\"Prediction: {classification.predictions[0]}\\n\")"
   ]
  },
  {
   "cell_type": "code",
   "execution_count": null,
   "metadata": {},
   "outputs": [],
   "source": []
  }
 ],
 "metadata": {
  "kernelspec": {
   "display_name": "base",
   "language": "python",
   "name": "python3"
  },
  "language_info": {
   "codemirror_mode": {
    "name": "ipython",
    "version": 3
   },
   "file_extension": ".py",
   "mimetype": "text/x-python",
   "name": "python",
   "nbconvert_exporter": "python",
   "pygments_lexer": "ipython3",
   "version": "3.11.6"
  }
 },
 "nbformat": 4,
 "nbformat_minor": 2
}
