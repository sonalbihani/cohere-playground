{
 "cells": [
  {
   "cell_type": "code",
   "execution_count": 1,
   "metadata": {},
   "outputs": [],
   "source": [
    "import cohere\n",
    "import os"
   ]
  },
  {
   "cell_type": "code",
   "execution_count": 2,
   "metadata": {},
   "outputs": [],
   "source": [
    "api_key = os.environ.get(\"COHERE_API_KEY\"),\n",
    "\n",
    "# setting up the cohere client\n",
    "co = cohere.Client(api_key)"
   ]
  },
  {
   "cell_type": "code",
   "execution_count": 6,
   "metadata": {},
   "outputs": [],
   "source": [
    "job_description = '''At ABC Company, we rely on insightful data to power our systems and solutions. \n",
    "We\\’re seeking an experienced data scientist to deliver insights on a daily basis. \n",
    "The ideal candidate will have mathematical and statistical expertise, along with natural curiosity and a creative mind. \n",
    "While mining, interpreting, and cleaning our data, this person will be relied on to ask questions, connect the dots, and uncover hidden opportunities for realizing the data’s full potential. \n",
    "As part of a team of specialists, the data scientist will “slice and dice” data using various methods and create new visions for the future.\n",
    "\\n Objectives of this role\n",
    "\\n Collaborate with product design and engineering teams to develop an understanding of needs\n",
    "\\n Research and devise innovative statistical models for data analysis\n",
    "\\n Communicate findings to all stakeholders\n",
    "\\n Enable smarter business processes by using analytics for meaningful insights \n",
    "\\n Keep current with technical and industry developments\n",
    "\\n Responsibilities\n",
    "\\n Serve as lead data strategist to identify and integrate new datasets that can be leveraged through our product capabilities, and work closely with the engineering team in the development of data products\n",
    "\\n Execute analytical experiments to help solve problems across various domains and industries\n",
    "\\n Identify relevant data sources and sets to mine for client business needs, and collect large structured and unstructured datasets and variables\n",
    "\\n Devise and utilize algorithms and models to mine big-data stores; perform data and error analysis to improve models; clean and validate data for uniformity and accuracy\n",
    "\\n Analyze data for trends and patterns, and interpret data with clear objectives in mind\n",
    "\\n Implement analytical models in production by collaborating with software developers and machine-learning engineers\n",
    "\\n Required skills and qualifications\n",
    "\\n Seven or more years of experience in data science\n",
    "\\n Proficiency with data mining, mathematics, and statistical analysis\n",
    "\\n Advanced experience in pattern recognition and predictive modeling\n",
    "\\n Experience with Excel, PowerPoint, Tableau, SQL, and programming languages (ex: Java/Python, SAS)\n",
    "\\n Ability to work effectively in a dynamic, research-oriented group that has several concurrent projects\n",
    "\\n Preferred skills and qualifications\n",
    "\\n Bachelor’s degree (or equivalent) in statistics, applied mathematics, or related discipline\n",
    "\\n Two or more years of project management experience\n",
    "\\n Professional certification'''"
   ]
  },
  {
   "cell_type": "code",
   "execution_count": 7,
   "metadata": {},
   "outputs": [],
   "source": [
    "personal_profile = '''Name: Sonal Bihani\n",
    "\\n Education: University of Waterloo, Masters in Data Science and AI\n",
    "\\n Experience: \n",
    "\\n Senior Data Analyst Uber for 2+ years, Description: Collaborated with multi-regional teams to analyze and generate insights for designing policies that automate ticket\n",
    "resolution, reducing the support contact rate for users by ∼8 basis points and saving 200+ hours of manual support cost\n",
    "per month\n",
    "◦ Analyzed data from multiple sources to increase customer engagement for the Uber Eats business, resulting in a ∼2%\n",
    "improvement in customer satisfaction for order issues\n",
    "◦ Supported the US&C Digital Experience and Data Science team in performing data-driven experimentation through A/B\n",
    "testing on support policies to optimize R&A spend and user experience\n",
    "◦ Mentored and supported a team of 12 analysts as the Eats liaison, responsible for spearheading efforts with the Product,\n",
    "Engineering, and Customer Obsession teams\n",
    "\\n Data Science Intern at Altair Engineering from May 2023- Sept 2023, Description: ◦ Leading an end-to-end data science project using Altair RapidMiner to predict electric vehicle adoption at a county level\n",
    "across 36 states\n",
    "◦ Sourcing, preprocessing, and aggregating diverse public domain data from multiple sources, implementing geocoding\n",
    "techniques for spatial analysis.\n",
    "◦ Leveraging GLM, Neural Networks, and Gradient Boosted Trees to develop data models and drive insightful predictive\n",
    "analysis.\n",
    "\\n Projects\n",
    "\\n Variational Autoencoder Modification using Spiking Neural Networks | PyTorch, Generative NNs, Description:\n",
    "◦ Introduced modification to VAE by incorporating SNNs with GLIF neurons, enabling accurate representation of complex\n",
    "neuronal processes.\n",
    "◦ Trained and evaluated models on CelebA dataset, generating high-quality images with extended training epochs and\n",
    "longer spike-trains.\n",
    "◦ Provided diverse and representative latent space, surpassing ANNs despite increased training time.\n",
    "\\n Island Genetic Algorithm in the context of Vehicle Routing Problems | Scala, Apache Spark, Big Data, Description:\n",
    "◦ Implemented a Parallel Genetic Algorithm for solving Vehicle Routing Problems (VRPs), utilizing the island model\n",
    "approach that divides the population of solutions into separate islands that evolve independently\n",
    "◦ The GA was able to consistently find high-quality solutions to the VRP with a monotonic decrease in path cost,\n",
    "converging to the local minima\n",
    "'''"
   ]
  },
  {
   "cell_type": "code",
   "execution_count": 8,
   "metadata": {},
   "outputs": [
    {
     "name": "stdout",
     "output_type": "stream",
     "text": [
      "Prediction:  Here is a draft of a cover letter that you can use as a starting point to apply for the Data Scientist position at ABC Company based on the job description provided:\n",
      "\n",
      "Dear Hiring Manager,\n",
      "\n",
      "I am writing to apply for the Data Scientist position at ABC Company. Based on my research, I know I am a good fit for this role and would be a valuable asset to your team.\n",
      "\n",
      "As a Data Scientist at ABC Company, I would utilize my skills in data mining, mathematics, and statistical analysis to ask questions, connect the dots, and uncover hidden opportunities for realizing the data's full potential. I would work closely with the engineering team to develop data products and serve as the lead data strategist to identify and integrate new datasets that can be leveraged through your company's capabilities.\n",
      "\n",
      "In my previous role as a Senior Data Analyst at Uber, I collaborated with multi-regional teams to analyze and generate insights for designing policies that automate ticket resolution and reduce user support costs. I am confident that my experience in data analysis and my educational background in Data Science and AI make me a strong candidate for this position.\n",
      "\n",
      "I have also led end-to-end data science projects in my role as a Data Science Intern at Altair Engineering, where I predicted electric vehicle adoption across several states using various data sources and modeling techniques. My proficiency in programming languages such as Python and Scala further demonstrates my technical skills.\n",
      "\n",
      "I am excited about the opportunity to contribute to ABC Company's data science team and help drive the company's data-driven future. My resume provides additional details on my experience and qualifications. \n",
      "\n",
      "Thank you for your time and consideration. I look forward to the opportunity to discuss how I can contribute to ABC Company's goals. \n",
      "\n",
      "Sincerely, \n",
      "\n",
      "Sonal Bihani \n",
      "\n",
      "Is there anything else I can do to help with your job application? \n"
     ]
    }
   ],
   "source": [
    "\n",
    "prompt = 'Create a cover letter for the Data Scientist position at ABC Company using the following job description {} and my personal profile {}'.format(job_description, personal_profile)\n",
    "response = co.generate(\n",
    "  model='command',\n",
    "  prompt=prompt,\n",
    "  max_tokens=1000,\n",
    "  temperature=0.6,\n",
    "  k=0,\n",
    "  stop_sequences=[],\n",
    "  return_likelihoods='NONE')\n",
    "print('Prediction: {}'.format(response.generations[0].text))"
   ]
  },
  {
   "cell_type": "code",
   "execution_count": null,
   "metadata": {},
   "outputs": [],
   "source": []
  }
 ],
 "metadata": {
  "kernelspec": {
   "display_name": "base",
   "language": "python",
   "name": "python3"
  },
  "language_info": {
   "codemirror_mode": {
    "name": "ipython",
    "version": 3
   },
   "file_extension": ".py",
   "mimetype": "text/x-python",
   "name": "python",
   "nbconvert_exporter": "python",
   "pygments_lexer": "ipython3",
   "version": "3.11.6"
  }
 },
 "nbformat": 4,
 "nbformat_minor": 2
}
